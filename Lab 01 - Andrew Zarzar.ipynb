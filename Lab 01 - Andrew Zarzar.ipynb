{
 "cells": [
  {
   "cell_type": "markdown",
   "metadata": {},
   "source": [
    "## Deliverables:  30 total points\n",
    "  - helloMe 4 points\n",
    "  - helloAgain 5 points\n",
    "  - myBio 6 points\n",
    "  - countAT-bugsSoln 9 points\n",
    "  - countNucleotides 6 points\n",
    "     \n",
    "## Due: Monday April 10, 2018 11:55pm \n",
    "## Lab 1 – Introduction to Python (30 points)\n",
    "Work in pairs. Find youself a partner who you will hopefully work with throughout the quarter.\n",
    "Although you are required to turn in independent code and answers yourself, you are encouraged to ask questions and work with each other to solve these exercises. Programming has a lot of area-specific vocabulary and concepts so it is often extremely helpful to ask for help when you run up against hurdles. Make sure to include your partners name as a comment in the first few lines of your program, like this:"
   ]
  },
  {
   "cell_type": "code",
   "execution_count": 1,
   "metadata": {},
   "outputs": [],
   "source": [
    "#!/usr/bin/env python3 \n",
    "# Name: Your full name (CATS account username) \n",
    "# Group Members: List full names (CATS usernames) or “None”"
   ]
  },
  {
   "cell_type": "markdown",
   "metadata": {},
   "source": [
    "## Setup your workspace\n",
    "### Logging into the lab computers\n",
    "To access the lab computers, your login name and password should be identical to those used for your CruzMail account.\n",
    "### Downloading your first notebook\n",
    "The document you are now reading is a jupyter notebook. It is available for download using our class website service Canvas. \n",
    "First we will need to create a folder that you’ll use for this lab. To do this create a folder called bme160 on the desktop.\n",
    "From Canvas :: files :: jupyter, download Lab01.ipynb, and place it into your bme160 folder.\n",
    "\n",
    "There are five programs you will need to write. They are all embedded in Lab01.ipynb as jupyter \"cells\". Move Lab01.ipynb into your bme160 folder.\n",
    "### Accessing Jupyter\n",
    "####  Open jupyter\n",
    "\n",
    "There are a number of ways to startup jupyter. Here are a few:\n",
    " -  LocalHost  Open _terminal_ ( located in the utilities folder on MacOS ), then change to the bme 160 directory and startup: jupyter notebook\n",
    " - https://try.jupyter.org you will then need to upload Lab 01.ipynb to that remote server. This server enforces a 10-minute inactivity limit, so you will need to save your work often. Note that this remote server sometimes doesnt run.\n",
    "\n",
    "Try out the interactive shell by selecting the following cell, then push the \"run cell\" button in the toolbar above, or pull down the _Cell_ menu above and select Run Cells. Notice that cells that contain runable code start with In [ ]: "
   ]
  },
  {
   "cell_type": "code",
   "execution_count": 1,
   "metadata": {},
   "outputs": [
    {
     "name": "stdout",
     "output_type": "stream",
     "text": [
      "hello Barak\n"
     ]
    }
   ],
   "source": [
    "print ('hello Barak')"
   ]
  },
  {
   "cell_type": "markdown",
   "metadata": {},
   "source": [
    "make sure that “hello” is returned.\n",
    "\n",
    "From here on, you will be writing programs. \n",
    "## First python program\n",
    "The hello.py program one of the first python programs that people write.\n",
    "\n",
    "Documenting code is an important and often overlooked process in software engineering. Don’t fall into the trap of not adding comments to your code! Note, you will not receive full credit on your assignment if your code is not clearly documented. To add comments you use the ’#’ character for single line comments, or you can use triple-quotes (“””) to begin a block of comments and then add another set of triple-quotes to end that block comment.\n",
    "\n",
    "To get an idea of what documenting and comments look like, here is an old-school version of the ’hello.py’ program,  documented:"
   ]
  },
  {
   "cell_type": "code",
   "execution_count": 2,
   "metadata": {},
   "outputs": [
    {
     "name": "stdout",
     "output_type": "stream",
     "text": [
      "Hello World\n"
     ]
    }
   ],
   "source": [
    "#!/usr/bin/env python3\n",
    "# Name: David Bernick (dbernick)\n",
    "# Group Members: John Cleese (jcleese) and Eric Idle (eidle)\n",
    "\n",
    "\"\"\"\n",
    "Print out the string Hello World when run.\n",
    "\"\"\"\n",
    "# remember that strings in python use either single (') or double (\") quotes.\n",
    "print (\"Hello World\")"
   ]
  },
  {
   "cell_type": "markdown",
   "metadata": {},
   "source": [
    "Add your own similar-looking documentation and comments to the the following code, customizing it for yourself, and lets make it print: Hello _your name_ instead. In my case, it would print \"Hello David\""
   ]
  },
  {
   "cell_type": "markdown",
   "metadata": {},
   "source": [
    "## helloMe"
   ]
  },
  {
   "cell_type": "code",
   "execution_count": 3,
   "metadata": {},
   "outputs": [
    {
     "name": "stdout",
     "output_type": "stream",
     "text": [
      "Hello Andrew\n"
     ]
    }
   ],
   "source": [
    "#!/usr/bin/env python3\n",
    "# Name: Andrew Zarzar (azarzar)\n",
    "# Group Members: none\n",
    "\n",
    "\"\"\"\n",
    "Prints out a greeting to myself.\n",
    "\"\"\" \n",
    "class Announcer (str):\n",
    "    def printMe (self):\n",
    "        print (self)\n",
    "\n",
    "student = Announcer ('Hello Andrew')\n",
    "student.printMe()\n",
    "# calls printMe function to print the greeting"
   ]
  },
  {
   "cell_type": "markdown",
   "metadata": {},
   "source": [
    "There are a few things to mention about this style of coding. Classes are templates for _objects_. The _announcer_ class is a kind of _string_ class, and we tell python that by including (str) after the name of the class. We have added a method ( printme) to the announcer class, and that method allows objects of class announcer to _print_ themselves. In python, we refer to data that is saved with an object using the word _self_. Since objects of this class are strings, _self_ refers to the string data. You will notice that python methods are defined using the keyword: def _name_ ( self, parameters)\n",
    "\n",
    "The line: _student = announcer ('Hello World')_ creates a new object (student), of class _announcer_ and it is given a parameter _'Hello World'_. That parameter is given to announcer as its data. Objects of class announcer refer to that data using the name _self_. \n",
    "\n",
    "The line: _student.printme()_ sends a printme() message to the student object, and the student object then prints out its data."
   ]
  },
  {
   "cell_type": "markdown",
   "metadata": {},
   "source": [
    "## Return of “Hello World”\n",
    "We will now take a look at a more sophisticated, second person version of _helloMe_. \n",
    "As currently written, it should ask you to enter a name; you type in the name and then press the _enter_ key (maybe labelled return).\n",
    "\n",
    "The output you should see is:\n",
    "\n",
    "Hi there, I am _name_\n",
    "\n",
    "Look at _helloAgain_ below. You’ll notice that it’s more complex and longer than _helloMe_. \n",
    "Now modify _helloAgain_ so that, in addition to asking for that person’s name, the program also prompts the user for their favorite pet like this:\n",
    "\n",
    "“What is your favorite pet? :”\n",
    "\n",
    "To make this clearer, here are a few lines that belong in your revised _helloAgain_."
   ]
  },
  {
   "cell_type": "code",
   "execution_count": 4,
   "metadata": {},
   "outputs": [
    {
     "name": "stdout",
     "output_type": "stream",
     "text": [
      "What is your name? : andrew\n",
      "What is your favorite kind of pet? : dog\n"
     ]
    },
    {
     "ename": "NameError",
     "evalue": "name 'person' is not defined",
     "output_type": "error",
     "traceback": [
      "\u001b[1;31m---------------------------------------------------------------------------\u001b[0m",
      "\u001b[1;31mNameError\u001b[0m                                 Traceback (most recent call last)",
      "\u001b[1;32m<ipython-input-4-6539a4bd1c59>\u001b[0m in \u001b[0;36m<module>\u001b[1;34m()\u001b[0m\n\u001b[0;32m      1\u001b[0m \u001b[0mname\u001b[0m \u001b[1;33m=\u001b[0m \u001b[0minput\u001b[0m\u001b[1;33m(\u001b[0m \u001b[1;34m\"What is your name? : \"\u001b[0m \u001b[1;33m)\u001b[0m\u001b[1;33m\u001b[0m\u001b[0m\n\u001b[0;32m      2\u001b[0m \u001b[0mpet\u001b[0m \u001b[1;33m=\u001b[0m \u001b[0minput\u001b[0m\u001b[1;33m(\u001b[0m \u001b[1;34m\"What is your favorite kind of pet? : \"\u001b[0m\u001b[1;33m)\u001b[0m\u001b[1;33m\u001b[0m\u001b[0m\n\u001b[1;32m----> 3\u001b[1;33m \u001b[0mnewPerson\u001b[0m \u001b[1;33m=\u001b[0m \u001b[0mperson\u001b[0m \u001b[1;33m(\u001b[0m\u001b[0mname\u001b[0m\u001b[1;33m,\u001b[0m \u001b[0mpet\u001b[0m\u001b[1;33m)\u001b[0m\u001b[1;33m\u001b[0m\u001b[0m\n\u001b[0m\u001b[0;32m      4\u001b[0m \u001b[0mnewPerson\u001b[0m\u001b[1;33m.\u001b[0m\u001b[0mintroduce\u001b[0m\u001b[1;33m(\u001b[0m\u001b[1;33m)\u001b[0m\u001b[1;33m\u001b[0m\u001b[0m\n",
      "\u001b[1;31mNameError\u001b[0m: name 'person' is not defined"
     ]
    }
   ],
   "source": [
    "name = input( \"What is your name? : \" )\n",
    "pet = input( \"What is your favorite kind of pet? : \")\n",
    "newPerson = person (name, pet)\n",
    "newPerson.introduce()"
   ]
  },
  {
   "cell_type": "markdown",
   "metadata": {},
   "source": [
    "### helloAgain"
   ]
  },
  {
   "cell_type": "code",
   "execution_count": 5,
   "metadata": {},
   "outputs": [
    {
     "name": "stdout",
     "output_type": "stream",
     "text": [
      "What is your name? : Andrew\n",
      "What is your favorite kind of pet? : Cat\n",
      "Hi there, I am Andrew, and i like Cats\n"
     ]
    }
   ],
   "source": [
    "#!/usr/bin/env python3\n",
    "# Name: Andrew Zarzar (azarzar)\n",
    "# Group Members: none\n",
    "\n",
    "\"\"\"\n",
    "Build a Person object and have it introduce itself.\n",
    "\n",
    "input: a string that will be the name of the person object\n",
    "output: a personalized, printed greeting\n",
    "\"\"\"\n",
    "\n",
    "class Person:\n",
    "\n",
    "    def __init__(self,name,pet):\n",
    "        # initializes attributed of class Person\n",
    "        self.myName = name\n",
    "        self.myPet  = pet\n",
    "        \n",
    "    def introduce (self):\n",
    "        print (\"Hi there, I am {0}, and i like {1}s\".format(self.myName,self.myPet))\n",
    "        # returns the personalized greeting with incorporated user input.\n",
    "\n",
    "# requests input\n",
    "name = input( \"What is your name? : \" )\n",
    "pet = input( \"What is your favorite kind of pet? : \")\n",
    "# creates a new person based on input\n",
    "newPerson = Person (name, pet)\n",
    "# calls on introduce method to print greeting output\n",
    "newPerson.introduce()"
   ]
  },
  {
   "cell_type": "markdown",
   "metadata": {},
   "source": [
    "Your new version of _helloAgain_ should now print something that looks like this: \n",
    "\n",
    "“Hi there, I am _name_ and I like _pets_ !”\n",
    "\n",
    "replacing the italicized text with what the user entered at the command line. Note the statement uses a plural form by appending the letter s, your program should do this too.\n",
    "\n",
    "So, if you decided that your new person is named Fred, and Fred is fond of his pet aardvark, then your program would\n",
    "output:\n",
    "\n",
    "Hi there, I am Fred and I like aardvarks!\n",
    "\n",
    "Remember to save and add documentation/comments to _helloAgain_ ."
   ]
  },
  {
   "cell_type": "markdown",
   "metadata": {},
   "source": [
    "## Brief Biography Program\n",
    "Now that you’ve gotten a little experience programming and seen a few python programs, next you’ll write a program that will do the following:\n",
    "\n",
    "  - Print your full name (first and last)\n",
    "  - Print your CATS/CruzMail username\n",
    "  - Print whether your are an undergraduate or graduate student\n",
    "  - Print your major\n",
    "  - Print why you are taking this class and what you hope to get out of it\n",
    "  - What problem in molecular biology most interests you.\n",
    "  - Print your prior computer programming experience\n",
    "\n",
    "This program should NOT ask the user for this data. This data should be constants in your program. The constants should NOT be part of the person class -- use parameters that are given to your person object when it is instantiated. \n",
    "The name of the program is “myBio” and a sample execution of the program should look something like this:\n",
    "\n",
    "My name is _**David Bernick**_. <br>\n",
    "My username is _**dbernick**_. <br>\n",
    "I am a _**professor**_. <br>\n",
    "My major is _**Bioinformatics and Biomolecular Engineering**_. <br>\n",
    "_**I’m  not taking this class, but I teach it**_. <br>\n",
    "_**I’m interested in  extreme life, especially hypertherthermophiles and hypersalinophiles, with a focus on small RNA and novel proteins from extreme viruses.**_ <br>\n",
    "I have prior programming experience using _**Python, Perl, Java, Fortran, Pascal, PL/1, ADA, Basic,TPL, APL, Assembly, and C++ (Im not very fond of this though)**_. <br>\n",
    "\n",
    "Each piece of info should occupy only a single line.\n",
    "\n",
    "In order to get full credit, the program must use attributes of the person class for each of the _**emphasized strings**_ above and contain appropriate documentation/comments. \n",
    "\n",
    "Note that in Python, *names* that are part of a class are called *attributes*. Functions that are part of a class are called *methods*. In other languages, *names* are sometimes called *variables*."
   ]
  },
  {
   "cell_type": "markdown",
   "metadata": {},
   "source": [
    "### myBio"
   ]
  },
  {
   "cell_type": "code",
   "execution_count": 6,
   "metadata": {},
   "outputs": [
    {
     "name": "stdout",
     "output_type": "stream",
     "text": [
      "Hi there, my name is Andrew Zarzar.\n",
      "My username is azarzar.\n",
      "I am an Undergraduate Student.\n",
      "My major is Biomolecular Engineering & Bioinformatics.\n",
      "I'm taking this class because I want to learn relavant skills in the field of computational genomics.\n",
      "I'm most interested in the study of transgenerational epigenetic inheritance and caner immunotherapy. I also love rockets!!\n",
      "I have prior programming experience with Java.\n"
     ]
    }
   ],
   "source": [
    "#!/usr/bin/env python3\n",
    "# Name: Andrew Zarzar (azarzar)\n",
    "# Group Members: none\n",
    "\n",
    "\"\"\"\n",
    "Build a Person object and have it introduce itself.\n",
    "\n",
    "input: a set of attributes that define the person object\n",
    "output: a short biography made up of the person's attributes. prints multiple string lines\n",
    "\"\"\"\n",
    "\n",
    "class Person:\n",
    "    def __init__(self,name,username,studentType,major,reason,interest,experience):\n",
    "        self.myName = name\n",
    "        self.myUsername = username\n",
    "        self.myStudent = studentType\n",
    "        self.myMajor = major\n",
    "        self.myReason = reason\n",
    "        self.myInterest = interest\n",
    "        self.myExperience = experience\n",
    "\n",
    "        # introduce method prints a biography of the person, incorporating the defined constants.\n",
    "    def introduce (self):\n",
    "        print (\"Hi there, my name is {0}\".format(self.myName))\n",
    "        print (\"My username is {0}\".format(self.myUsername))\n",
    "        print (\"I am an {0}\".format(self.myStudent))\n",
    "        print (\"My major is {0}\".format(self.myMajor))\n",
    "        print (\"I'm taking this class because {0}\".format(self.myReason))\n",
    "        print (\"I'm most interested in the study of {0}\".format(self.myInterest))\n",
    "        print (\"I have prior programming experience with {0}\".format(self.myExperience))\n",
    "\n",
    "# defines constant paramaters that will be used to make new person\n",
    "name = 'Andrew Zarzar.'\n",
    "username = 'azarzar.'\n",
    "studentType = 'Undergraduate Student.'\n",
    "major = 'Biomolecular Engineering & Bioinformatics.'\n",
    "reason = 'I want to learn relavant skills in the field of computational genomics.'\n",
    "interest = \"transgenerational epigenetic inheritance and caner immunotherapy. I also love rockets!!\"\n",
    "experience = \"Java.\"\n",
    "\n",
    "# Makes new person, and instantiates the object with constants above\n",
    "newPerson = Person(name,username,studentType,major,reason,interest,experience)\n",
    "\n",
    "#calls introduce method to print biography output\n",
    "newPerson.introduce()\n"
   ]
  },
  {
   "cell_type": "markdown",
   "metadata": {},
   "source": [
    "## Debug buggy code\n",
    "Practice makes us better; usually debugging makes code closer to perfect. \n",
    "This program is supposed to ask the user to enter a DNA sequence and then output the AT content of the sequence— total number of As and Ts divided by the sequence length—as a fraction of the total sequence length (a number between 0 and 1).\n",
    "\n",
    "For example, given the string:\n",
    "\n",
    "AAAATGAATGGCTAACTTTTGAA\n",
    "\n",
    "the program should output: (make sure that you pay attention to the number of significant digits in the output!)\n",
    "\n",
    "AT content = 0.739\n",
    "\n",
    "Unfortunately there are a few bugs in the program. Your task is to identify and correct those bugs. This part of the assignment is to help familiarize you with the debugging process. It is possible to identify the bugs without using any of the following techniques just by looking over the program, but this will be good practice and will be essential when your code gets more complex.\n",
    "\n",
    "To debug countAT-bugs.py, run the program, which will produce an error. Figure out what the error is and correct the code. It’s likely that after you correct the first error you will notice another error. Repeat this process until you fix all the bugs and the program runs properly.\n",
    "\n",
    "Save a corrected copy of the program called countAT-bugsSoln.py that includes: \n",
    "  - Documentation and comments\n",
    "  - A program overview that includes how many bugs you found and what lines from the original file they were found at."
   ]
  },
  {
   "cell_type": "markdown",
   "metadata": {},
   "source": [
    "## countAT-bugs"
   ]
  },
  {
   "cell_type": "code",
   "execution_count": 7,
   "metadata": {},
   "outputs": [
    {
     "name": "stdout",
     "output_type": "stream",
     "text": [
      "Enter a dna sequence: ATTA\n"
     ]
    },
    {
     "ename": "NameError",
     "evalue": "name 'A' is not defined",
     "output_type": "error",
     "traceback": [
      "\u001b[1;31m---------------------------------------------------------------------------\u001b[0m",
      "\u001b[1;31mNameError\u001b[0m                                 Traceback (most recent call last)",
      "\u001b[1;32m<ipython-input-7-c555e3403963>\u001b[0m in \u001b[0;36m<module>\u001b[1;34m()\u001b[0m\n\u001b[0;32m     17\u001b[0m \u001b[0mcoolString\u001b[0m \u001b[1;33m=\u001b[0m \u001b[0mdnaString\u001b[0m\u001b[1;33m(\u001b[0m\u001b[0mupperDNA\u001b[0m\u001b[1;33m)\u001b[0m    \u001b[1;31m#  ORIGINAL CODE       ORIGINAL CODE   ORIGINAL CODE       ORIGINAL CODE\u001b[0m\u001b[1;33m\u001b[0m\u001b[0m\n\u001b[0;32m     18\u001b[0m \u001b[1;33m\u001b[0m\u001b[0m\n\u001b[1;32m---> 19\u001b[1;33m \u001b[0mprint\u001b[0m \u001b[1;33m(\u001b[0m\u001b[1;34m\"AT content = {0:0.1f}\"\u001b[0m\u001b[1;33m.\u001b[0m\u001b[0mformat\u001b[0m\u001b[1;33m(\u001b[0m\u001b[0mcoolString\u001b[0m\u001b[1;33m.\u001b[0m\u001b[0mgetAT\u001b[0m\u001b[1;33m(\u001b[0m\u001b[1;33m)\u001b[0m\u001b[1;33m)\u001b[0m \u001b[1;33m)\u001b[0m\u001b[1;33m\u001b[0m\u001b[0m\n\u001b[0m",
      "\u001b[1;32m<ipython-input-7-c555e3403963>\u001b[0m in \u001b[0;36mgetAT\u001b[1;34m(self)\u001b[0m\n\u001b[0;32m      9\u001b[0m \u001b[1;33m\u001b[0m\u001b[0m\n\u001b[0;32m     10\u001b[0m     \u001b[1;32mdef\u001b[0m \u001b[0mgetAT\u001b[0m \u001b[1;33m(\u001b[0m\u001b[0mself\u001b[0m\u001b[1;33m)\u001b[0m\u001b[1;33m:\u001b[0m\u001b[1;33m\u001b[0m\u001b[0m\n\u001b[1;32m---> 11\u001b[1;33m         \u001b[0mnum_A\u001b[0m \u001b[1;33m=\u001b[0m \u001b[0mself\u001b[0m\u001b[1;33m.\u001b[0m\u001b[0mcount\u001b[0m\u001b[1;33m(\u001b[0m\u001b[0mA\u001b[0m\u001b[1;33m)\u001b[0m\u001b[1;33m\u001b[0m\u001b[0m\n\u001b[0m\u001b[0;32m     12\u001b[0m         \u001b[0mnum_T\u001b[0m \u001b[1;33m=\u001b[0m \u001b[0mself\u001b[0m\u001b[1;33m.\u001b[0m\u001b[0mcount\u001b[0m\u001b[1;33m(\u001b[0m\u001b[1;34m\"T\"\u001b[0m\u001b[1;33m)\u001b[0m\u001b[1;33m\u001b[0m\u001b[0m\n\u001b[0;32m     13\u001b[0m         \u001b[1;32mreturn\u001b[0m \u001b[1;33m(\u001b[0m\u001b[1;33m(\u001b[0m\u001b[0mnum_A\u001b[0m \u001b[1;33m+\u001b[0m \u001b[0mnum_T\u001b[0m\u001b[1;33m)\u001b[0m\u001b[1;33m/\u001b[0m \u001b[0mself\u001b[0m\u001b[1;33m.\u001b[0m\u001b[0mlen\u001b[0m\u001b[1;33m(\u001b[0m\u001b[1;33m)\u001b[0m \u001b[1;33m)\u001b[0m   \u001b[1;31m#   ORIGINAL CODE       ORIGINAL CODE   ORIGINAL CODE       ORIGINAL CODE\u001b[0m\u001b[1;33m\u001b[0m\u001b[0m\n",
      "\u001b[1;31mNameError\u001b[0m: name 'A' is not defined"
     ]
    }
   ],
   "source": [
    "#!/usr/bin/env python3\n",
    "# Name: David Bernick(dbernick)\n",
    "# Group Members: none\n",
    "# BUGGYYY CODEE                                           ORIGINAL CODE       ORIGINAL CODE    ORIGINAL CODE\n",
    "\n",
    "class dnaString (str):\n",
    "    def length (self):\n",
    "        return (len(self))      #         ORIGINAL CODE            ORIGINAL CODE       ORIGINAL CODE  \n",
    "\n",
    "    def getAT (self):\n",
    "        num_A = self.count(A)\n",
    "        num_T = self.count(\"T\")\n",
    "        return ((num_A + num_T)/ self.len() )   #   ORIGINAL CODE       ORIGINAL CODE   ORIGINAL CODE       ORIGINAL CODE  \n",
    "\n",
    "dna = input(\"Enter a dna sequence: \")\n",
    "upperDNA = dna.upper()\n",
    "coolString = dnaString(upperDNA)    #  ORIGINAL CODE       ORIGINAL CODE   ORIGINAL CODE       ORIGINAL CODE  \n",
    "\n",
    "print (\"AT content = {0:0.1f}\".format(coolString.getAT()) )"
   ]
  },
  {
   "cell_type": "code",
   "execution_count": 8,
   "metadata": {},
   "outputs": [],
   "source": [
    "## countAT-bugsSoln"
   ]
  },
  {
   "cell_type": "code",
   "execution_count": 9,
   "metadata": {},
   "outputs": [
    {
     "name": "stdout",
     "output_type": "stream",
     "text": [
      "Enter a dna sequence: ATTA\n",
      "AT content = 1.000\n"
     ]
    }
   ],
   "source": [
    "#!/usr/bin/env python3\n",
    "# Name: Andrew Zarzar (azarzar)\n",
    "# Group Members: none\n",
    "\"\"\"\n",
    "Input: a string a of DNA sequence\n",
    "Output: The ratio of AT content in the sequence from 0 to 1.\n",
    "\n",
    "Overview: The first bug was found on line 12. num_A could not be defined since A wasn't in quotes when using self.count(\"A\")\n",
    "          The second bug was on line 13. A string must pass through the len method, self.len() cannot be used. The code can \n",
    "          either be changed to len(self) or self.length()\n",
    "          The third bug was on line 16. Line 16 has no use, it should be deleted. \n",
    "          As a consequence of the third bug, on line 17, dnaString(upperDNA) should be changed to dnaString(dna)\n",
    "          On line 19, change the 1f to 3f in the print statement to get the right number of sig figs. \n",
    "\"\"\"\n",
    "class dnaString (str):\n",
    "    \n",
    "    def length (self):\n",
    "        return (len(self))\n",
    "    # creates function length. It returns the length of the dna string.\n",
    "    def getAT (self):\n",
    "        num_A = self.count(\"A\")\n",
    "        num_T = self.count(\"T\")\n",
    "        return ((num_A + num_T)/ self.length() )\n",
    "    #The function getAT counts the number of A's and T's, then divides that number by the total length. \n",
    "    #This obtains the ratio of A's and T's vs the total length of the dna string. \n",
    "    \n",
    "dna = input(\"Enter a dna sequence: \")\n",
    "#Asks user for dna input\n",
    "coolString = dnaString(dna)\n",
    "#creates coolString object using user input.\n",
    "print (\"AT content = {0:0.3f}\".format(coolString.getAT()) )\n",
    "#prints the AT content by using the getAT function and formating the print correctly"
   ]
  },
  {
   "cell_type": "markdown",
   "metadata": {},
   "source": [
    "## Counting DNA Letters \n",
    "Now that you are inspired by your ability to debug the countAT-bugs code, let's create a new program that will ask the user to enter a DNA sequence and then output the total sequence length and \n",
    "the number of each base {total As, Cs, Gs, Ts} found in the sequence. \n",
    "For example, given the string:\n",
    "\n",
    "AAAATGAATGGCTAACTTTTGAA\n",
    "\n",
    "the program should output:\n",
    "\n",
    "Your sequence is 23 nucleotides long with the following breakdown of bases:\n",
    "\n",
    "number As = 10\n",
    "number Cs = 2\n",
    "number Gs = 4\n",
    "number Ts = 7\n",
    "\n",
    "Write a program called countNucleotides (put it below) that will take in a DNA sequence entered by a user and produce the outputs specified above. Note that \"specified\" means ... \"required\"\n",
    "\n",
    "To get full credit on this assignment, your code needs to:\n",
    "\n",
    "  * Run properly\n",
    "  * Contain documentation/comments\n",
    "  * Include an overview about what your program is designed to do with expected inputs and outputs. Use a MarkDown Cell to write your overview."
   ]
  },
  {
   "cell_type": "markdown",
   "metadata": {},
   "source": [
    "### countNucleotides"
   ]
  },
  {
   "cell_type": "code",
   "execution_count": 10,
   "metadata": {},
   "outputs": [
    {
     "name": "stdout",
     "output_type": "stream",
     "text": [
      "Enter a dna sequence: ATTA\n",
      "\n",
      "DNA sequence is valid.\n",
      "\n",
      "Your sequence is 4 nucleotides long with the following breakdown of bases:\n",
      "\n",
      "-Adenine count = 2\n",
      "-Cytosine count = 0\n",
      "-Guanine count = 0\n",
      "-Thymine count = 2\n",
      "\n",
      "There are 0 unknown nucleotide inputs.\n"
     ]
    }
   ],
   "source": [
    "#!/usr/bin/env python3\n",
    "# Name: Andrew Zarzar (azarzar)\n",
    "# Group Members: none\n",
    "\"\"\"\n",
    "The countNucleotides class counts the number and type of nucleotides in a DNA sequence input.\n",
    "input: an uninterrupted sequence of DNA in string format\n",
    "output: The length of the sequence, the number of each of the four bases in the sequence, and the vailidity of the user input.\n",
    "\n",
    "Overview: The countNucleotides program asks users to input a DNA sequence. \n",
    "         (DNA sequences are made of of A, T, G, and C nucleotides)\n",
    "         Once the user inputs the string, the total length, and the ATGC length are calculated.\n",
    "         The program uses the runCheck function to check and inform the user of potential errors in the code. \n",
    "         A potential error can be triggered by a formatting error, or a non-DNA nucleotide being inputed.\n",
    "         If the ATGC length is less than or equal to 80% of the total input length, the code doesn't run.\n",
    "         The getUnknown function is also printed to inform the user of the number of non-ATGC characters in the input.\n",
    "\"\"\"\n",
    "\n",
    "class countNucleotides (str):\n",
    "    \n",
    "    def getLength (self):\n",
    "        return (len(self))\n",
    "    # Function getLength returns the length of the DNA sequence input.\n",
    "    \n",
    "    def getA (self):\n",
    "        num_A = self.count(\"A\") + self.count(\"a\")\n",
    "        return num_A\n",
    "    # Function getA counts and returns the number of A (Adenines) in the sequence. Will count both upercase and lowercase inputs.\n",
    "    def getT (self):\n",
    "        num_T = self.count(\"T\") + self.count(\"t\")\n",
    "        return num_T\n",
    "    # Function getT counts and returns the number of T (Thymines) in the sequence. Will count both upercase and lowercase inputs.\n",
    "    def getG (self):\n",
    "        num_G = self.count(\"G\") + self.count(\"g\")\n",
    "        return num_G\n",
    "    # Function getG counts and returns the number of G (Guanines) in the sequence. Will count both upercase and lowercase inputs.\n",
    "    def getC (self):\n",
    "        num_C = self.count(\"C\") + self.count(\"c\")\n",
    "        return num_C\n",
    "    # Function getA counts and returns the number of C (Cytosines) in the sequence. Will count both upercase and lowercase inputs.\n",
    "    \n",
    "    def getATGClength (self):\n",
    "        num_Total = self.count(\"A\") + self.count(\"T\") + self.count(\"G\") + self.count(\"C\") +self.count(\"a\") + self.count(\"t\") + self.count(\"g\") + self.count(\"c\")\n",
    "        return num_Total\n",
    "    # Function getATGClength returns the number of A's, T's, G's, and C's in the sequence. Will count both upercase and lowercase inputs.\n",
    "    \n",
    "    def runCheck (self, totalLength, atgcLength):\n",
    "            if totalLength != atgcLength:\n",
    "                return (\"Please check DNA sequence for errors.\\n\")\n",
    "            else:\n",
    "                return (\"DNA sequence is valid.\\n\")    \n",
    "            # Function runCheck checks to see if the input contains any values other than A,T,G, or C.\n",
    "            # It does this by comparing the total length of the input to the length of the A,T,G, and C's in the sequence.\n",
    "            # Returns suggestion to check input if there are values other than A,T,G,C\n",
    "    def getUnknown (self, totalLength, atgcLength):\n",
    "        return totalLength - atgcLength\n",
    "        # Obtains the number of non-A,T,G,C characters by calculating the difference in the total length and the a,t,g,c, length.\n",
    "        \n",
    "\n",
    "dna = input(\"Enter a dna sequence: \")\n",
    "# Asks user for input\n",
    "coolString = countNucleotides(dna)\n",
    "#creates the object coolString, based on user input.\n",
    "totalLength = int (coolString.getLength())\n",
    "#sets the value of totalLength to the total length of the user input\n",
    "atgcLength = int (coolString.getATGClength())\n",
    "#sets the value of atgcLength to the number of a,t,g, and c's in the user input. \n",
    "\n",
    "print ('') # prints spacer line between user input and next output\n",
    "print (coolString.runCheck(totalLength,atgcLength)) #implements the run check function\n",
    "ratio = atgcLength / totalLength      \n",
    "#sets ratio equal to the ratio of the number of a,t,g, and c's in the sequence vs the total number of characters in the sequence\n",
    "if ratio <= 0.8:\n",
    "     print ('Please restart the program.')\n",
    "     # Allows the program to run as intended, unless the input is made up of 20% or more non A,T,G,C characters\n",
    "else:\n",
    "    print (\"Your sequence is {0} nucleotides long with the following breakdown of bases:\\n\".format(coolString.getLength()) )\n",
    "    print (\"-Adenine count = {0}\".format(coolString.getA()) )\n",
    "    print (\"-Cytosine count = {0}\".format(coolString.getC()) )\n",
    "    print (\"-Guanine count = {0}\".format(coolString.getG()) )\n",
    "    print (\"-Thymine count = {0}\\n\".format(coolString.getT()) )\n",
    "    print (\"There are {0} unknown nucleotide inputs.\".format(coolString.getUnknown(totalLength,atgcLength)) )\n",
    "    # If input includes less than 20% non-ATGC inputs, then the code runs as intended.\n",
    "    # Gives the length of nucleotides, and the number of each base present. A, T, C, or G."
   ]
  },
  {
   "cell_type": "markdown",
   "metadata": {},
   "source": [
    "## Submit your code and answers\n",
    "Important: please save your work before logging out of the computer. This will ensure that you have a copy of your work and you will avoid having to redo everything in the event that something happens with the lab computers. The two recommended solutions (pick one) at this point are to:\n",
    "\n",
    "  - Email your jupyter notebook to yourself\n",
    "  - Copy your notebook to a pen drive\n",
    "  \n",
    "The class will be using canvas to submit the notebook created as part of this lab assignment.\n",
    "\n",
    "For this lab, you should upload your notebook with the following sections\n",
    "\n",
    "  * helloMe 4 points\n",
    "  * helloAgain 5 points\n",
    "  * myBio 6 points\n",
    "  * countAT-bugsSoln 9 points\n",
    "  * countNucleotides 6 points \n",
    "\n",
    "Important: to get full credit on this lab assignment, everything needs to\n",
    "\n",
    "  * Run properly\n",
    "  * Contain informative documentation/comment, including your name and your partner\n",
    "  * be your own work\n",
    "\n",
    "Congratulations, you finished your first lab assignment!"
   ]
  },
  {
   "cell_type": "code",
   "execution_count": null,
   "metadata": {},
   "outputs": [],
   "source": []
  },
  {
   "cell_type": "code",
   "execution_count": null,
   "metadata": {},
   "outputs": [],
   "source": []
  }
 ],
 "metadata": {
  "kernelspec": {
   "display_name": "Python 3",
   "language": "python",
   "name": "python3"
  },
  "language_info": {
   "codemirror_mode": {
    "name": "ipython",
    "version": 3
   },
   "file_extension": ".py",
   "mimetype": "text/x-python",
   "name": "python",
   "nbconvert_exporter": "python",
   "pygments_lexer": "ipython3",
   "version": "3.6.4"
  }
 },
 "nbformat": 4,
 "nbformat_minor": 2
}
